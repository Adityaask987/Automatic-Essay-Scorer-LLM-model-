{
 "cells": [
  {
   "cell_type": "code",
   "execution_count": 1,
   "id": "5f6b610d",
   "metadata": {
    "_kg_hide-output": true,
    "execution": {
     "iopub.execute_input": "2024-07-02T17:08:24.275289Z",
     "iopub.status.busy": "2024-07-02T17:08:24.274644Z",
     "iopub.status.idle": "2024-07-02T17:08:37.942329Z",
     "shell.execute_reply": "2024-07-02T17:08:37.941455Z"
    },
    "papermill": {
     "duration": 13.680867,
     "end_time": "2024-07-02T17:08:37.944689",
     "exception": false,
     "start_time": "2024-07-02T17:08:24.263822",
     "status": "completed"
    },
    "tags": []
   },
   "outputs": [
    {
     "name": "stderr",
     "output_type": "stream",
     "text": [
      "2024-07-02 17:08:26.026866: E external/local_xla/xla/stream_executor/cuda/cuda_dnn.cc:9261] Unable to register cuDNN factory: Attempting to register factory for plugin cuDNN when one has already been registered\n",
      "2024-07-02 17:08:26.026969: E external/local_xla/xla/stream_executor/cuda/cuda_fft.cc:607] Unable to register cuFFT factory: Attempting to register factory for plugin cuFFT when one has already been registered\n",
      "2024-07-02 17:08:26.157387: E external/local_xla/xla/stream_executor/cuda/cuda_blas.cc:1515] Unable to register cuBLAS factory: Attempting to register factory for plugin cuBLAS when one has already been registered\n",
      "/tmp/ipykernel_27/2827391943.py:15: MatplotlibDeprecationWarning: The get_cmap function was deprecated in Matplotlib 3.7 and will be removed two minor releases later. Use ``matplotlib.colormaps[name]`` or ``matplotlib.colormaps.get_cmap(obj)`` instead.\n",
      "  cmap = mpl.cm.get_cmap('coolwarm')\n"
     ]
    }
   ],
   "source": [
    "import os\n",
    "os.environ[\"KERAS_BACKEND\"] = \"jax\"  # \"jax\" or \"tensorflow\" or \"torch\" \n",
    "\n",
    "import keras_nlp\n",
    "import keras\n",
    "import keras.backend as K\n",
    "import tensorflow as tf\n",
    "\n",
    "import numpy as np \n",
    "import pandas as pd\n",
    "\n",
    "import matplotlib.pyplot as plt\n",
    "import matplotlib as mpl\n",
    "\n",
    "cmap = mpl.cm.get_cmap('coolwarm')"
   ]
  },
  {
   "cell_type": "code",
   "execution_count": 2,
   "id": "3fc1d273",
   "metadata": {
    "_kg_hide-input": true,
    "execution": {
     "iopub.execute_input": "2024-07-02T17:08:37.965161Z",
     "iopub.status.busy": "2024-07-02T17:08:37.964278Z",
     "iopub.status.idle": "2024-07-02T17:08:37.969167Z",
     "shell.execute_reply": "2024-07-02T17:08:37.968300Z"
    },
    "papermill": {
     "duration": 0.017024,
     "end_time": "2024-07-02T17:08:37.971329",
     "exception": false,
     "start_time": "2024-07-02T17:08:37.954305",
     "status": "completed"
    },
    "tags": []
   },
   "outputs": [
    {
     "name": "stdout",
     "output_type": "stream",
     "text": [
      "TensorFlow: 2.15.0\n",
      "Keras: 3.0.5\n",
      "KerasNLP: 0.8.2\n"
     ]
    }
   ],
   "source": [
    "print(\"TensorFlow:\", tf.__version__)\n",
    "print(\"Keras:\", keras.__version__)\n",
    "print(\"KerasNLP:\", keras_nlp.__version__)"
   ]
  },
  {
   "cell_type": "code",
   "execution_count": 3,
   "id": "7e943807",
   "metadata": {
    "_kg_hide-input": true,
    "execution": {
     "iopub.execute_input": "2024-07-02T17:08:37.990863Z",
     "iopub.status.busy": "2024-07-02T17:08:37.990619Z",
     "iopub.status.idle": "2024-07-02T17:08:37.994939Z",
     "shell.execute_reply": "2024-07-02T17:08:37.994108Z"
    },
    "papermill": {
     "duration": 0.016273,
     "end_time": "2024-07-02T17:08:37.996776",
     "exception": false,
     "start_time": "2024-07-02T17:08:37.980503",
     "status": "completed"
    },
    "tags": []
   },
   "outputs": [],
   "source": [
    "class CFG:\n",
    "    seed = 42  # Random seed\n",
    "    preset = \"deberta_v3_extra_small_en\" # Name of pretrained models\n",
    "    sequence_length = 512  # Input sequence length\n",
    "    epochs = 25 # Training epochs\n",
    "    batch_size = 16 # Batch size\n",
    "    scheduler = 'cosine'  # Learning rate scheduler"
   ]
  },
  {
   "cell_type": "code",
   "execution_count": 4,
   "id": "b5e40c8b",
   "metadata": {
    "execution": {
     "iopub.execute_input": "2024-07-02T17:08:38.016517Z",
     "iopub.status.busy": "2024-07-02T17:08:38.015898Z",
     "iopub.status.idle": "2024-07-02T17:08:38.020022Z",
     "shell.execute_reply": "2024-07-02T17:08:38.019252Z"
    },
    "papermill": {
     "duration": 0.015949,
     "end_time": "2024-07-02T17:08:38.021915",
     "exception": false,
     "start_time": "2024-07-02T17:08:38.005966",
     "status": "completed"
    },
    "tags": []
   },
   "outputs": [],
   "source": [
    "keras.utils.set_random_seed(CFG.seed)"
   ]
  },
  {
   "cell_type": "code",
   "execution_count": 5,
   "id": "a6d59f05",
   "metadata": {
    "execution": {
     "iopub.execute_input": "2024-07-02T17:08:38.041308Z",
     "iopub.status.busy": "2024-07-02T17:08:38.041040Z",
     "iopub.status.idle": "2024-07-02T17:08:38.044886Z",
     "shell.execute_reply": "2024-07-02T17:08:38.044152Z"
    },
    "papermill": {
     "duration": 0.015659,
     "end_time": "2024-07-02T17:08:38.046766",
     "exception": false,
     "start_time": "2024-07-02T17:08:38.031107",
     "status": "completed"
    },
    "tags": []
   },
   "outputs": [],
   "source": [
    "keras.mixed_precision.set_global_policy(\"mixed_float16\")"
   ]
  },
  {
   "cell_type": "code",
   "execution_count": 6,
   "id": "62fad545",
   "metadata": {
    "execution": {
     "iopub.execute_input": "2024-07-02T17:08:38.067778Z",
     "iopub.status.busy": "2024-07-02T17:08:38.067525Z",
     "iopub.status.idle": "2024-07-02T17:08:38.071476Z",
     "shell.execute_reply": "2024-07-02T17:08:38.070670Z"
    },
    "papermill": {
     "duration": 0.016073,
     "end_time": "2024-07-02T17:08:38.073276",
     "exception": false,
     "start_time": "2024-07-02T17:08:38.057203",
     "status": "completed"
    },
    "tags": []
   },
   "outputs": [],
   "source": [
    "BASE_PATH = '/kaggle/input/learning-agency-lab-automated-essay-scoring-2'"
   ]
  },
  {
   "cell_type": "code",
   "execution_count": 7,
   "id": "41caf9d6",
   "metadata": {
    "_kg_hide-input": true,
    "execution": {
     "iopub.execute_input": "2024-07-02T17:08:38.092613Z",
     "iopub.status.busy": "2024-07-02T17:08:38.092363Z",
     "iopub.status.idle": "2024-07-02T17:08:38.810494Z",
     "shell.execute_reply": "2024-07-02T17:08:38.809424Z"
    },
    "papermill": {
     "duration": 0.736006,
     "end_time": "2024-07-02T17:08:38.818524",
     "exception": false,
     "start_time": "2024-07-02T17:08:38.082518",
     "status": "completed"
    },
    "tags": []
   },
   "outputs": [
    {
     "name": "stdout",
     "output_type": "stream",
     "text": [
      "# Train Data: 17,307\n",
      "# Sample:\n"
     ]
    },
    {
     "data": {
      "text/html": [
       "<div>\n",
       "<style scoped>\n",
       "    .dataframe tbody tr th:only-of-type {\n",
       "        vertical-align: middle;\n",
       "    }\n",
       "\n",
       "    .dataframe tbody tr th {\n",
       "        vertical-align: top;\n",
       "    }\n",
       "\n",
       "    .dataframe thead th {\n",
       "        text-align: right;\n",
       "    }\n",
       "</style>\n",
       "<table border=\"1\" class=\"dataframe\">\n",
       "  <thead>\n",
       "    <tr style=\"text-align: right;\">\n",
       "      <th></th>\n",
       "      <th>essay_id</th>\n",
       "      <th>full_text</th>\n",
       "      <th>score</th>\n",
       "    </tr>\n",
       "  </thead>\n",
       "  <tbody>\n",
       "    <tr>\n",
       "      <th>0</th>\n",
       "      <td>000d118</td>\n",
       "      <td>Many people have car where they live. The thin...</td>\n",
       "      <td>3</td>\n",
       "    </tr>\n",
       "    <tr>\n",
       "      <th>1</th>\n",
       "      <td>000fe60</td>\n",
       "      <td>I am a scientist at NASA that is discussing th...</td>\n",
       "      <td>3</td>\n",
       "    </tr>\n",
       "  </tbody>\n",
       "</table>\n",
       "</div>"
      ],
      "text/plain": [
       "  essay_id                                          full_text  score\n",
       "0  000d118  Many people have car where they live. The thin...      3\n",
       "1  000fe60  I am a scientist at NASA that is discussing th...      3"
      ]
     },
     "metadata": {},
     "output_type": "display_data"
    }
   ],
   "source": [
    "# Load data\n",
    "df = pd.read_csv(f'{BASE_PATH}/train.csv')  # Read CSV file into a DataFrame\n",
    "\n",
    "# Display information about the train data\n",
    "print(\"# Train Data: {:,}\".format(len(df)))\n",
    "print(\"# Sample:\")\n",
    "display(df.head(2))"
   ]
  },
  {
   "cell_type": "code",
   "execution_count": 8,
   "id": "cba53334",
   "metadata": {
    "execution": {
     "iopub.execute_input": "2024-07-02T17:08:38.839582Z",
     "iopub.status.busy": "2024-07-02T17:08:38.839281Z",
     "iopub.status.idle": "2024-07-02T17:08:39.801617Z",
     "shell.execute_reply": "2024-07-02T17:08:39.799564Z"
    },
    "papermill": {
     "duration": 0.97521,
     "end_time": "2024-07-02T17:08:39.804111",
     "exception": false,
     "start_time": "2024-07-02T17:08:38.828901",
     "status": "completed"
    },
    "tags": []
   },
   "outputs": [],
   "source": [
    "from sklearn.model_selection import train_test_split  # Import package\n",
    "\n",
    "train_df, valid_df = train_test_split(df, test_size=0.2, stratify=df[\"score\"])"
   ]
  },
  {
   "cell_type": "code",
   "execution_count": 9,
   "id": "50e6f60c",
   "metadata": {
    "execution": {
     "iopub.execute_input": "2024-07-02T17:08:39.830353Z",
     "iopub.status.busy": "2024-07-02T17:08:39.829543Z",
     "iopub.status.idle": "2024-07-02T17:08:39.838518Z",
     "shell.execute_reply": "2024-07-02T17:08:39.837709Z"
    },
    "papermill": {
     "duration": 0.025598,
     "end_time": "2024-07-02T17:08:39.840478",
     "exception": false,
     "start_time": "2024-07-02T17:08:39.814880",
     "status": "completed"
    },
    "tags": []
   },
   "outputs": [],
   "source": [
    "def to_ordinal(y, num_classes=None, dtype=\"float32\"):\n",
    "    \"\"\"Converts a class vector (integers) to an ordinal regression matrix.\n",
    "\n",
    "    This utility encodes class vector to ordinal regression/classification\n",
    "    matrix where each sample is indicated by a row and rank of that sample is\n",
    "    indicated by number of ones in that row.\n",
    "\n",
    "    Args:\n",
    "        y: Array-like with class values to be converted into a matrix\n",
    "            (integers from 0 to `num_classes - 1`).\n",
    "        num_classes: Total number of classes. If `None`, this would be inferred\n",
    "            as `max(y) + 1`.\n",
    "        dtype: The data type expected by the input. Default: `'float32'`.\n",
    "\n",
    "    Returns:\n",
    "        An ordinal regression matrix representation of the input as a NumPy\n",
    "        array. The class axis is placed last.\n",
    "    \"\"\"\n",
    "    y = np.array(y, dtype=\"int\")\n",
    "    input_shape = y.shape\n",
    "\n",
    "    # Shrink the last dimension if the shape is (..., 1).\n",
    "    if input_shape and input_shape[-1] == 1 and len(input_shape) > 1:\n",
    "        input_shape = tuple(input_shape[:-1])\n",
    "\n",
    "    y = y.reshape(-1)\n",
    "    if not num_classes:\n",
    "        num_classes = np.max(y) + 1\n",
    "    n = y.shape[0]\n",
    "    range_values = np.arange(num_classes - 1)\n",
    "    range_values = np.tile(np.expand_dims(range_values, 0), [n, 1])\n",
    "    ordinal = np.zeros((n, num_classes - 1), dtype=dtype)\n",
    "    ordinal[range_values < np.expand_dims(y, -1)] = 1\n",
    "    output_shape = input_shape + (num_classes - 1,)\n",
    "    ordinal = np.reshape(ordinal, output_shape)\n",
    "    return ordinal"
   ]
  },
  {
   "cell_type": "code",
   "execution_count": 10,
   "id": "54357f34",
   "metadata": {
    "execution": {
     "iopub.execute_input": "2024-07-02T17:08:39.860779Z",
     "iopub.status.busy": "2024-07-02T17:08:39.860131Z",
     "iopub.status.idle": "2024-07-02T17:08:39.866518Z",
     "shell.execute_reply": "2024-07-02T17:08:39.865638Z"
    },
    "papermill": {
     "duration": 0.018479,
     "end_time": "2024-07-02T17:08:39.868472",
     "exception": false,
     "start_time": "2024-07-02T17:08:39.849993",
     "status": "completed"
    },
    "tags": []
   },
   "outputs": [
    {
     "data": {
      "text/plain": [
       "array([[1., 0., 0., 0., 0., 0.],\n",
       "       [1., 1., 1., 0., 0., 0.],\n",
       "       [1., 1., 1., 1., 1., 0.],\n",
       "       [1., 1., 0., 0., 0., 0.],\n",
       "       [1., 1., 1., 1., 1., 1.]], dtype=float32)"
      ]
     },
     "execution_count": 10,
     "metadata": {},
     "output_type": "execute_result"
    }
   ],
   "source": [
    "scores = [1, 3, 5, 2, 6]\n",
    "\n",
    "to_ordinal(scores)"
   ]
  },
  {
   "cell_type": "code",
   "execution_count": 11,
   "id": "b2c15da7",
   "metadata": {
    "execution": {
     "iopub.execute_input": "2024-07-02T17:08:39.888593Z",
     "iopub.status.busy": "2024-07-02T17:08:39.888320Z",
     "iopub.status.idle": "2024-07-02T17:08:39.906307Z",
     "shell.execute_reply": "2024-07-02T17:08:39.905472Z"
    },
    "papermill": {
     "duration": 0.030334,
     "end_time": "2024-07-02T17:08:39.908367",
     "exception": false,
     "start_time": "2024-07-02T17:08:39.878033",
     "status": "completed"
    },
    "tags": []
   },
   "outputs": [],
   "source": [
    "train_df[\"label\"] = to_ordinal(train_df.score.values).tolist()\n",
    "valid_df[\"label\"] = to_ordinal(valid_df.score.values).tolist()"
   ]
  },
  {
   "cell_type": "code",
   "execution_count": 12,
   "id": "2b9479b5",
   "metadata": {
    "_kg_hide-input": true,
    "execution": {
     "iopub.execute_input": "2024-07-02T17:08:39.928932Z",
     "iopub.status.busy": "2024-07-02T17:08:39.928655Z",
     "iopub.status.idle": "2024-07-02T17:08:40.399326Z",
     "shell.execute_reply": "2024-07-02T17:08:40.398410Z"
    },
    "papermill": {
     "duration": 0.483291,
     "end_time": "2024-07-02T17:08:40.401345",
     "exception": false,
     "start_time": "2024-07-02T17:08:39.918054",
     "status": "completed"
    },
    "tags": []
   },
   "outputs": [
    {
     "data": {
      "image/png": "[encoded data removed]",
      "text/plain": [
       "<Figure size 800x400 with 1 Axes>"
      ]
     },
     "metadata": {},
     "output_type": "display_data"
    },
    {
     "data": {
      "image/png": "[encoded data removed]",
      "text/plain": [
       "<Figure size 800x400 with 1 Axes>"
      ]
     },
     "metadata": {},
     "output_type": "display_data"
    }
   ],
   "source": [
    "# Show distribution of answers using a bar plot\n",
    "plt.figure(figsize=(8, 4))\n",
    "df.score.value_counts().plot.bar(color=[cmap(0.0), cmap(0.25), cmap(0.65), cmap(0.9), cmap(1.0)])\n",
    "plt.xlabel(\"Score\")\n",
    "plt.ylabel(\"Count\")\n",
    "plt.title(\"Score distribution for Train Data\")\n",
    "plt.show()\n",
    "\n",
    "# Show distribution of essay length using a bar plot\n",
    "plt.figure(figsize=(8, 4))\n",
    "df['essay_length'] = df.full_text.map(len)\n",
    "df.essay_length.plot.hist(logy=False, color=cmap(0.9))\n",
    "plt.xlabel(\"Essay Length\")\n",
    "plt.ylabel(\"Count\")\n",
    "plt.title(\"Essay Length distribution for Train Data\")\n",
    "plt.show()"
   ]
  },
  {
   "cell_type": "code",
   "execution_count": 13,
   "id": "7ee691ff",
   "metadata": {
    "execution": {
     "iopub.execute_input": "2024-07-02T17:08:40.423630Z",
     "iopub.status.busy": "2024-07-02T17:08:40.423343Z",
     "iopub.status.idle": "2024-07-02T17:08:44.796995Z",
     "shell.execute_reply": "2024-07-02T17:08:44.796192Z"
    },
    "papermill": {
     "duration": 4.387321,
     "end_time": "2024-07-02T17:08:44.799321",
     "exception": false,
     "start_time": "2024-07-02T17:08:40.412000",
     "status": "completed"
    },
    "tags": []
   },
   "outputs": [
    {
     "name": "stderr",
     "output_type": "stream",
     "text": [
      "Attaching 'tokenizer.json' from model 'keras/deberta_v3/keras/deberta_v3_extra_small_en/2' to your Kaggle notebook...\n",
      "Attaching 'tokenizer.json' from model 'keras/deberta_v3/keras/deberta_v3_extra_small_en/2' to your Kaggle notebook...\n",
      "Attaching 'assets/tokenizer/vocabulary.spm' from model 'keras/deberta_v3/keras/deberta_v3_extra_small_en/2' to your Kaggle notebook...\n"
     ]
    }
   ],
   "source": [
    "preprocessor = keras_nlp.models.DebertaV3Preprocessor.from_preset(\n",
    "    preset=CFG.preset, # Name of the model\n",
    "    sequence_length=CFG.sequence_length, # Max sequence length, will be padded if shorter\n",
    ")"
   ]
  },
  {
   "cell_type": "code",
   "execution_count": 14,
   "id": "60b41241",
   "metadata": {
    "execution": {
     "iopub.execute_input": "2024-07-02T17:08:44.843539Z",
     "iopub.status.busy": "2024-07-02T17:08:44.842824Z",
     "iopub.status.idle": "2024-07-02T17:08:46.066198Z",
     "shell.execute_reply": "2024-07-02T17:08:46.065159Z"
    },
    "papermill": {
     "duration": 1.237071,
     "end_time": "2024-07-02T17:08:46.068350",
     "exception": false,
     "start_time": "2024-07-02T17:08:44.831279",
     "status": "completed"
    },
    "tags": []
   },
   "outputs": [
    {
     "name": "stdout",
     "output_type": "stream",
     "text": [
      "token_ids : (512,)\n",
      "padding_mask : (512,)\n"
     ]
    }
   ],
   "source": [
    "inp = preprocessor(df.full_text.iloc[0])  # Process text for the first row\n",
    "\n",
    "# Display the shape of each processed output\n",
    "for k, v in inp.items():\n",
    "    print(k, \":\", v.shape)"
   ]
  },
  {
   "cell_type": "code",
   "execution_count": 15,
   "id": "a049f554",
   "metadata": {
    "execution": {
     "iopub.execute_input": "2024-07-02T17:08:46.113585Z",
     "iopub.status.busy": "2024-07-02T17:08:46.113003Z",
     "iopub.status.idle": "2024-07-02T17:08:46.117539Z",
     "shell.execute_reply": "2024-07-02T17:08:46.116696Z"
    },
    "papermill": {
     "duration": 0.017978,
     "end_time": "2024-07-02T17:08:46.119373",
     "exception": false,
     "start_time": "2024-07-02T17:08:46.101395",
     "status": "completed"
    },
    "tags": []
   },
   "outputs": [],
   "source": [
    "def preprocess_fn(text, label=None):\n",
    "    text = preprocessor(text)  # Preprocess text\n",
    "    return (text, label) if label is not None else text  # Return processed text and label if available"
   ]
  },
  {
   "cell_type": "code",
   "execution_count": 16,
   "id": "66b30eda",
   "metadata": {
    "_kg_hide-input": true,
    "execution": {
     "iopub.execute_input": "2024-07-02T17:08:46.141835Z",
     "iopub.status.busy": "2024-07-02T17:08:46.141589Z",
     "iopub.status.idle": "2024-07-02T17:08:46.148371Z",
     "shell.execute_reply": "2024-07-02T17:08:46.147587Z"
    },
    "papermill": {
     "duration": 0.020121,
     "end_time": "2024-07-02T17:08:46.150225",
     "exception": false,
     "start_time": "2024-07-02T17:08:46.130104",
     "status": "completed"
    },
    "tags": []
   },
   "outputs": [],
   "source": [
    "def build_dataset(texts, labels=None, batch_size=32,\n",
    "                  cache=True, drop_remainder=True,\n",
    "                  shuffle=1024):\n",
    "    AUTO = tf.data.AUTOTUNE  # AUTOTUNE option\n",
    "    slices = (texts,) if labels is None else (texts, labels)  # Create slices\n",
    "    ds = tf.data.Dataset.from_tensor_slices(slices)  # Create dataset from slices\n",
    "    ds = ds.cache() if cache else ds  # Cache dataset if enabled\n",
    "    ds = ds.map(preprocess_fn, num_parallel_calls=AUTO)  # Map preprocessing function\n",
    "    opt = tf.data.Options()  # Create dataset options\n",
    "    if shuffle: \n",
    "        ds = ds.shuffle(shuffle, seed=CFG.seed)  # Shuffle dataset if enabled\n",
    "        opt.experimental_deterministic = False\n",
    "    ds = ds.with_options(opt)  # Set dataset options\n",
    "    ds = ds.batch(batch_size, drop_remainder=drop_remainder)  # Batch dataset\n",
    "    ds = ds.prefetch(AUTO)  # Prefetch next batch\n",
    "    return ds"
   ]
  },
  {
   "cell_type": "code",
   "execution_count": 17,
   "id": "a13a1211",
   "metadata": {
    "_kg_hide-input": false,
    "execution": {
     "iopub.execute_input": "2024-07-02T17:08:46.172485Z",
     "iopub.status.busy": "2024-07-02T17:08:46.172211Z",
     "iopub.status.idle": "2024-07-02T17:08:49.261290Z",
     "shell.execute_reply": "2024-07-02T17:08:49.260302Z"
    },
    "papermill": {
     "duration": 3.102971,
     "end_time": "2024-07-02T17:08:49.263728",
     "exception": false,
     "start_time": "2024-07-02T17:08:46.160757",
     "status": "completed"
    },
    "tags": []
   },
   "outputs": [],
   "source": [
    "# Train Data\n",
    "train_texts = train_df.full_text.tolist()  # Extract training texts\n",
    "train_labels = np.array(train_df.label.tolist())  # Extract training labels\n",
    "\n",
    "# Build training dataset\n",
    "train_ds = build_dataset(\n",
    "    train_texts, train_labels, batch_size=CFG.batch_size, shuffle=True\n",
    ")\n",
    "\n",
    "# Valid Data\n",
    "valid_texts = valid_df.full_text.tolist()  # Extract validation texts\n",
    "valid_labels = np.array(valid_df.label.tolist())  # Extract validation labels\n",
    "\n",
    "# Build validation dataset\n",
    "valid_ds = build_dataset(\n",
    "    valid_texts, valid_labels, batch_size=CFG.batch_size, shuffle=False\n",
    ")\n"
   ]
  },
  {
   "cell_type": "code",
   "execution_count": 18,
   "id": "fb8327d9",
   "metadata": {
    "_kg_hide-input": true,
    "execution": {
     "iopub.execute_input": "2024-07-02T17:08:49.287263Z",
     "iopub.status.busy": "2024-07-02T17:08:49.286966Z",
     "iopub.status.idle": "2024-07-02T17:08:49.296923Z",
     "shell.execute_reply": "2024-07-02T17:08:49.296029Z"
    },
    "papermill": {
     "duration": 0.023874,
     "end_time": "2024-07-02T17:08:49.298809",
     "exception": false,
     "start_time": "2024-07-02T17:08:49.274935",
     "status": "completed"
    },
    "tags": []
   },
   "outputs": [],
   "source": [
    "import math\n",
    "\n",
    "def get_lr_callback(batch_size=8, mode='cos', epochs=10, plot=False):\n",
    "    lr_start, lr_max, lr_min = 0.6e-5, 0.3e-5 * batch_size, 0.3e-5\n",
    "    lr_ramp_ep, lr_sus_ep, lr_decay = 2, 0, 0.75\n",
    "\n",
    "    def lrfn(epoch):  # Learning rate update function\n",
    "        if epoch < lr_ramp_ep: lr = (lr_max - lr_start) / lr_ramp_ep * epoch + lr_start\n",
    "        elif epoch < lr_ramp_ep + lr_sus_ep: lr = lr_max\n",
    "        elif mode == 'exp': lr = (lr_max - lr_min) * lr_decay**(epoch - lr_ramp_ep - lr_sus_ep) + lr_min\n",
    "        elif mode == 'step': lr = lr_max * lr_decay**((epoch - lr_ramp_ep - lr_sus_ep) // 2)\n",
    "        elif mode == 'cos':\n",
    "            decay_total_epochs, decay_epoch_index = epochs - lr_ramp_ep - lr_sus_ep + 3, epoch - lr_ramp_ep - lr_sus_ep\n",
    "            phase = math.pi * decay_epoch_index / decay_total_epochs\n",
    "            lr = (lr_max - lr_min) * 0.5 * (1 + math.cos(phase)) + lr_min\n",
    "        return lr\n",
    "\n",
    "    if plot:  # Plot lr curve if plot is True\n",
    "        plt.figure(figsize=(10, 5))\n",
    "        plt.plot(np.arange(epochs), [lrfn(epoch) for epoch in np.arange(epochs)], marker='o')\n",
    "        plt.xlabel('epoch'); plt.ylabel('lr')\n",
    "        plt.title('LR Scheduler')\n",
    "        plt.show()\n",
    "\n",
    "    return keras.callbacks.LearningRateScheduler(lrfn, verbose=False)  # Create lr callback"
   ]
  },
  {
   "cell_type": "code",
   "execution_count": 19,
   "id": "7f567df7",
   "metadata": {
    "execution": {
     "iopub.execute_input": "2024-07-02T17:08:49.321827Z",
     "iopub.status.busy": "2024-07-02T17:08:49.321581Z",
     "iopub.status.idle": "2024-07-02T17:08:49.513690Z",
     "shell.execute_reply": "2024-07-02T17:08:49.512846Z"
    },
    "papermill": {
     "duration": 0.206173,
     "end_time": "2024-07-02T17:08:49.515721",
     "exception": false,
     "start_time": "2024-07-02T17:08:49.309548",
     "status": "completed"
    },
    "tags": []
   },
   "outputs": [
    {
     "data": {
      "image/png": "[encoded data removed]",
      "text/plain": [
       "<Figure size 1000x500 with 1 Axes>"
      ]
     },
     "metadata": {},
     "output_type": "display_data"
    }
   ],
   "source": [
    "lr_cb = get_lr_callback(CFG.batch_size, plot=True)"
   ]
  },
  {
   "cell_type": "code",
   "execution_count": 20,
   "id": "a1b50ad3",
   "metadata": {
    "execution": {
     "iopub.execute_input": "2024-07-02T17:08:49.539415Z",
     "iopub.status.busy": "2024-07-02T17:08:49.538888Z",
     "iopub.status.idle": "2024-07-02T17:08:49.543292Z",
     "shell.execute_reply": "2024-07-02T17:08:49.542423Z"
    },
    "papermill": {
     "duration": 0.018142,
     "end_time": "2024-07-02T17:08:49.545118",
     "exception": false,
     "start_time": "2024-07-02T17:08:49.526976",
     "status": "completed"
    },
    "tags": []
   },
   "outputs": [],
   "source": [
    "ckpt_cb = keras.callbacks.ModelCheckpoint(\n",
    "    \"best_model.weights.h5\",\n",
    "    monitor=\"val_weighted_kappa\",\n",
    "    save_best_only=True,\n",
    "    save_weights_only=True,\n",
    "    mode=\"max\",\n",
    ")\n"
   ]
  },
  {
   "cell_type": "code",
   "execution_count": 21,
   "id": "11eef533",
   "metadata": {
    "execution": {
     "iopub.execute_input": "2024-07-02T17:08:49.568481Z",
     "iopub.status.busy": "2024-07-02T17:08:49.568173Z",
     "iopub.status.idle": "2024-07-02T17:08:49.584812Z",
     "shell.execute_reply": "2024-07-02T17:08:49.583991Z"
    },
    "papermill": {
     "duration": 0.030309,
     "end_time": "2024-07-02T17:08:49.586631",
     "exception": false,
     "start_time": "2024-07-02T17:08:49.556322",
     "status": "completed"
    },
    "tags": []
   },
   "outputs": [],
   "source": [
    "class WeightedKappa(keras.metrics.Metric):\n",
    "    def __init__(self, num_classes=6, epsilon=1e-6):\n",
    "        super().__init__(name=\"weighted_kappa\")\n",
    "        self.num_classes = num_classes\n",
    "        self.epsilon = epsilon\n",
    "\n",
    "        label_vec = keras.ops.arange(num_classes, dtype=keras.backend.floatx())\n",
    "        self.row_label_vec = keras.ops.reshape(label_vec, [1, num_classes])\n",
    "        self.col_label_vec = keras.ops.reshape(label_vec, [num_classes, 1])\n",
    "        col_mat = keras.ops.tile(self.col_label_vec, [1, num_classes])\n",
    "        row_mat = keras.ops.tile(self.row_label_vec, [num_classes, 1])\n",
    "        self.weight_mat = (col_mat - row_mat) ** 2\n",
    "\n",
    "        self.numerator = self.add_weight(name=\"numerator\", initializer=\"zeros\")\n",
    "        self.denominator = self.add_weight(name=\"denominator\", initializer=\"zeros\")\n",
    "        self.o_sum = self.add_weight(name=\"o_sum\", initializer=\"zeros\")\n",
    "        self.e_sum = self.add_weight(name=\"e_sum\", initializer=\"zeros\")\n",
    "\n",
    "    def update_state(self, y_true, y_pred, **args):\n",
    "        # revert ordinal regression labels to classification labels\n",
    "        y_true = keras.ops.one_hot(\n",
    "            keras.ops.sum(keras.ops.cast(y_true, dtype=\"int8\"), axis=-1) - 1, 6\n",
    "        )\n",
    "        y_pred = keras.ops.one_hot(\n",
    "            keras.ops.sum(keras.ops.cast(y_pred > 0.5, dtype=\"int8\"), axis=-1) - 1, 6\n",
    "        )\n",
    "        # weighted kappa calculation\n",
    "        y_true = keras.ops.cast(y_true, dtype=self.col_label_vec.dtype)\n",
    "        y_pred = keras.ops.cast(y_pred, dtype=self.weight_mat.dtype)\n",
    "        batch_size = keras.ops.shape(y_true)[0]\n",
    "\n",
    "        cat_labels = keras.ops.matmul(y_true, self.col_label_vec)\n",
    "        cat_label_mat = keras.ops.tile(cat_labels, [1, self.num_classes])\n",
    "        row_label_mat = keras.ops.tile(self.row_label_vec, [batch_size, 1])\n",
    "\n",
    "        weight = (cat_label_mat - row_label_mat) ** 2\n",
    "\n",
    "        self.numerator.assign_add(keras.ops.sum(weight * y_pred))\n",
    "        label_dist = keras.ops.sum(y_true, axis=0, keepdims=True)\n",
    "        pred_dist = keras.ops.sum(y_pred, axis=0, keepdims=True)\n",
    "        w_pred_dist = keras.ops.matmul(\n",
    "            self.weight_mat, keras.ops.transpose(pred_dist, [1, 0])\n",
    "        )\n",
    "        self.denominator.assign_add(\n",
    "            keras.ops.sum(keras.ops.matmul(label_dist, w_pred_dist))\n",
    "        )\n",
    "\n",
    "        self.o_sum.assign_add(keras.ops.sum(y_pred))\n",
    "        self.e_sum.assign_add(\n",
    "            keras.ops.sum(\n",
    "                keras.ops.matmul(keras.ops.transpose(label_dist, [1, 0]), pred_dist)\n",
    "            )\n",
    "        )\n",
    "\n",
    "    def result(self):\n",
    "        return 1.0 - (\n",
    "            keras.ops.divide_no_nan(self.numerator, self.denominator)\n",
    "            * keras.ops.divide_no_nan(self.e_sum, self.o_sum)\n",
    "        )\n",
    "\n",
    "    def reset_state(self):\n",
    "        self.numerator.assign(0)\n",
    "        self.denominator.assign(0)\n",
    "        self.o_sum.assign(0)\n",
    "        self.e_sum.assign(0)\n"
   ]
  },
  {
   "cell_type": "code",
   "execution_count": 22,
   "id": "6f5a7092",
   "metadata": {
    "execution": {
     "iopub.execute_input": "2024-07-02T17:08:49.609807Z",
     "iopub.status.busy": "2024-07-02T17:08:49.609566Z",
     "iopub.status.idle": "2024-07-02T17:09:00.073808Z",
     "shell.execute_reply": "2024-07-02T17:09:00.072958Z"
    },
    "papermill": {
     "duration": 10.478146,
     "end_time": "2024-07-02T17:09:00.075812",
     "exception": false,
     "start_time": "2024-07-02T17:08:49.597666",
     "status": "completed"
    },
    "tags": []
   },
   "outputs": [
    {
     "name": "stderr",
     "output_type": "stream",
     "text": [
      "Attaching 'config.json' from model 'keras/deberta_v3/keras/deberta_v3_extra_small_en/2' to your Kaggle notebook...\n",
      "Attaching 'config.json' from model 'keras/deberta_v3/keras/deberta_v3_extra_small_en/2' to your Kaggle notebook...\n",
      "Attaching 'model.weights.h5' from model 'keras/deberta_v3/keras/deberta_v3_extra_small_en/2' to your Kaggle notebook...\n"
     ]
    },
    {
     "data": {
      "text/html": [
       "<pre style=\"white-space:pre;overflow-x:auto;line-height:normal;font-family:Menlo,'DejaVu Sans Mono',consolas,'Courier New',monospace\"><span style=\"font-weight: bold\">Model: \"functional_1\"</span>\n",
       "</pre>\n"
      ],
      "text/plain": [
       "\u001b[1mModel: \"functional_1\"\u001b[0m\n"
      ]
     },
     "metadata": {},
     "output_type": "display_data"
    },
    {
     "data": {
      "text/html": [
       "<pre style=\"white-space:pre;overflow-x:auto;line-height:normal;font-family:Menlo,'DejaVu Sans Mono',consolas,'Courier New',monospace\">┏━━━━━━━━━━━━━━━━━━━━━┳━━━━━━━━━━━━━━━━━━━┳━━━━━━━━━━━━┳━━━━━━━━━━━━━━━━━━━┓\n",
       "┃<span style=\"font-weight: bold\"> Layer (type)        </span>┃<span style=\"font-weight: bold\"> Output Shape      </span>┃<span style=\"font-weight: bold\">    Param # </span>┃<span style=\"font-weight: bold\"> Connected to      </span>┃\n",
       "┡━━━━━━━━━━━━━━━━━━━━━╇━━━━━━━━━━━━━━━━━━━╇━━━━━━━━━━━━╇━━━━━━━━━━━━━━━━━━━┩\n",
       "│ padding_mask        │ (<span style=\"color: #00d7ff; text-decoration-color: #00d7ff\">None</span>, <span style=\"color: #00d7ff; text-decoration-color: #00d7ff\">None</span>)      │          <span style=\"color: #00af00; text-decoration-color: #00af00\">0</span> │ -                 │\n",
       "│ (<span style=\"color: #0087ff; text-decoration-color: #0087ff\">InputLayer</span>)        │                   │            │                   │\n",
       "├─────────────────────┼───────────────────┼────────────┼───────────────────┤\n",
       "│ token_ids           │ (<span style=\"color: #00d7ff; text-decoration-color: #00d7ff\">None</span>, <span style=\"color: #00d7ff; text-decoration-color: #00d7ff\">None</span>)      │          <span style=\"color: #00af00; text-decoration-color: #00af00\">0</span> │ -                 │\n",
       "│ (<span style=\"color: #0087ff; text-decoration-color: #0087ff\">InputLayer</span>)        │                   │            │                   │\n",
       "├─────────────────────┼───────────────────┼────────────┼───────────────────┤\n",
       "│ deberta_v3_classif… │ (<span style=\"color: #00d7ff; text-decoration-color: #00d7ff\">None</span>, <span style=\"color: #00af00; text-decoration-color: #00af00\">6</span>)         │ <span style=\"color: #00af00; text-decoration-color: #00af00\">70,832,262</span> │ padding_mask[<span style=\"color: #00af00; text-decoration-color: #00af00\">0</span>][<span style=\"color: #00af00; text-decoration-color: #00af00\">…</span> │\n",
       "│ (<span style=\"color: #0087ff; text-decoration-color: #0087ff\">DebertaV3Classifi…</span> │                   │            │ token_ids[<span style=\"color: #00af00; text-decoration-color: #00af00\">0</span>][<span style=\"color: #00af00; text-decoration-color: #00af00\">0</span>]   │\n",
       "├─────────────────────┼───────────────────┼────────────┼───────────────────┤\n",
       "│ activation          │ (<span style=\"color: #00d7ff; text-decoration-color: #00d7ff\">None</span>, <span style=\"color: #00af00; text-decoration-color: #00af00\">6</span>)         │          <span style=\"color: #00af00; text-decoration-color: #00af00\">0</span> │ deberta_v3_class… │\n",
       "│ (<span style=\"color: #0087ff; text-decoration-color: #0087ff\">Activation</span>)        │                   │            │                   │\n",
       "└─────────────────────┴───────────────────┴────────────┴───────────────────┘\n",
       "</pre>\n"
      ],
      "text/plain": [
       "┏━━━━━━━━━━━━━━━━━━━━━┳━━━━━━━━━━━━━━━━━━━┳━━━━━━━━━━━━┳━━━━━━━━━━━━━━━━━━━┓\n",
       "┃\u001b[1m \u001b[0m\u001b[1mLayer (type)       \u001b[0m\u001b[1m \u001b[0m┃\u001b[1m \u001b[0m\u001b[1mOutput Shape     \u001b[0m\u001b[1m \u001b[0m┃\u001b[1m \u001b[0m\u001b[1m   Param #\u001b[0m\u001b[1m \u001b[0m┃\u001b[1m \u001b[0m\u001b[1mConnected to     \u001b[0m\u001b[1m \u001b[0m┃\n",
       "┡━━━━━━━━━━━━━━━━━━━━━╇━━━━━━━━━━━━━━━━━━━╇━━━━━━━━━━━━╇━━━━━━━━━━━━━━━━━━━┩\n",
       "│ padding_mask        │ (\u001b[38;5;45mNone\u001b[0m, \u001b[38;5;45mNone\u001b[0m)      │          \u001b[38;5;34m0\u001b[0m │ -                 │\n",
       "│ (\u001b[38;5;33mInputLayer\u001b[0m)        │                   │            │                   │\n",
       "├─────────────────────┼───────────────────┼────────────┼───────────────────┤\n",
       "│ token_ids           │ (\u001b[38;5;45mNone\u001b[0m, \u001b[38;5;45mNone\u001b[0m)      │          \u001b[38;5;34m0\u001b[0m │ -                 │\n",
       "│ (\u001b[38;5;33mInputLayer\u001b[0m)        │                   │            │                   │\n",
       "├─────────────────────┼───────────────────┼────────────┼───────────────────┤\n",
       "│ deberta_v3_classif… │ (\u001b[38;5;45mNone\u001b[0m, \u001b[38;5;34m6\u001b[0m)         │ \u001b[38;5;34m70,832,262\u001b[0m │ padding_mask[\u001b[38;5;34m0\u001b[0m][\u001b[38;5;34m…\u001b[0m │\n",
       "│ (\u001b[38;5;33mDebertaV3Classifi…\u001b[0m │                   │            │ token_ids[\u001b[38;5;34m0\u001b[0m][\u001b[38;5;34m0\u001b[0m]   │\n",
       "├─────────────────────┼───────────────────┼────────────┼───────────────────┤\n",
       "│ activation          │ (\u001b[38;5;45mNone\u001b[0m, \u001b[38;5;34m6\u001b[0m)         │          \u001b[38;5;34m0\u001b[0m │ deberta_v3_class… │\n",
       "│ (\u001b[38;5;33mActivation\u001b[0m)        │                   │            │                   │\n",
       "└─────────────────────┴───────────────────┴────────────┴───────────────────┘\n"
      ]
     },
     "metadata": {},
     "output_type": "display_data"
    },
    {
     "data": {
      "text/html": [
       "<pre style=\"white-space:pre;overflow-x:auto;line-height:normal;font-family:Menlo,'DejaVu Sans Mono',consolas,'Courier New',monospace\"><span style=\"font-weight: bold\"> Total params: </span><span style=\"color: #00af00; text-decoration-color: #00af00\">70,832,262</span> (270.20 MB)\n",
       "</pre>\n"
      ],
      "text/plain": [
       "\u001b[1m Total params: \u001b[0m\u001b[38;5;34m70,832,262\u001b[0m (270.20 MB)\n"
      ]
     },
     "metadata": {},
     "output_type": "display_data"
    },
    {
     "data": {
      "text/html": [
       "<pre style=\"white-space:pre;overflow-x:auto;line-height:normal;font-family:Menlo,'DejaVu Sans Mono',consolas,'Courier New',monospace\"><span style=\"font-weight: bold\"> Trainable params: </span><span style=\"color: #00af00; text-decoration-color: #00af00\">70,832,262</span> (270.20 MB)\n",
       "</pre>\n"
      ],
      "text/plain": [
       "\u001b[1m Trainable params: \u001b[0m\u001b[38;5;34m70,832,262\u001b[0m (270.20 MB)\n"
      ]
     },
     "metadata": {},
     "output_type": "display_data"
    },
    {
     "data": {
      "text/html": [
       "<pre style=\"white-space:pre;overflow-x:auto;line-height:normal;font-family:Menlo,'DejaVu Sans Mono',consolas,'Courier New',monospace\"><span style=\"font-weight: bold\"> Non-trainable params: </span><span style=\"color: #00af00; text-decoration-color: #00af00\">0</span> (0.00 B)\n",
       "</pre>\n"
      ],
      "text/plain": [
       "\u001b[1m Non-trainable params: \u001b[0m\u001b[38;5;34m0\u001b[0m (0.00 B)\n"
      ]
     },
     "metadata": {},
     "output_type": "display_data"
    }
   ],
   "source": [
    "# Create a DebertaV3Classifier model\n",
    "classifier = keras_nlp.models.DebertaV3Classifier.from_preset(\n",
    "    CFG.preset, preprocessor=None, num_classes=6\n",
    ")\n",
    "inputs = classifier.input\n",
    "logits = classifier(inputs)\n",
    "\n",
    "# Compute final output\n",
    "outputs = keras.layers.Activation(\"sigmoid\")(logits)\n",
    "\n",
    "# Build Model\n",
    "model = keras.Model(inputs, outputs)\n",
    "\n",
    "# Compile the model with optimizer, loss, and metrics\n",
    "model.compile(\n",
    "    optimizer=keras.optimizers.Adam(5e-6),\n",
    "    loss=keras.losses.BinaryCrossentropy(),\n",
    "    metrics=[\n",
    "        WeightedKappa()\n",
    "    ],\n",
    ")\n",
    "model.summary()\n"
   ]
  },
  {
   "cell_type": "code",
   "execution_count": 23,
   "id": "bccc4903",
   "metadata": {
    "_kg_hide-input": true,
    "execution": {
     "iopub.execute_input": "2024-07-02T17:09:00.101945Z",
     "iopub.status.busy": "2024-07-02T17:09:00.101648Z",
     "iopub.status.idle": "2024-07-02T20:06:00.158171Z",
     "shell.execute_reply": "2024-07-02T20:06:00.157266Z"
    },
    "papermill": {
     "duration": 10621.962252,
     "end_time": "2024-07-02T20:06:02.050641",
     "exception": false,
     "start_time": "2024-07-02T17:09:00.088389",
     "status": "completed"
    },
    "tags": []
   },
   "outputs": [
    {
     "name": "stdout",
     "output_type": "stream",
     "text": [
      "Epoch 1/25\n",
      "\u001b[1m865/865\u001b[0m \u001b[32m━━━━━━━━━━━━━━━━━━━━\u001b[0m\u001b[37m\u001b[0m \u001b[1m475s\u001b[0m 513ms/step - loss: 0.4113 - weighted_kappa: 0.2483 - val_loss: 0.1812 - val_weighted_kappa: 0.6887 - learning_rate: 6.0000e-06\n",
      "Epoch 2/25\n",
      "\u001b[1m865/865\u001b[0m \u001b[32m━━━━━━━━━━━━━━━━━━━━\u001b[0m\u001b[37m\u001b[0m \u001b[1m440s\u001b[0m 508ms/step - loss: 0.1886 - weighted_kappa: 0.6778 - val_loss: 0.1594 - val_weighted_kappa: 0.7592 - learning_rate: 2.7000e-05\n",
      "Epoch 3/25\n",
      "\u001b[1m865/865\u001b[0m \u001b[32m━━━━━━━━━━━━━━━━━━━━\u001b[0m\u001b[37m\u001b[0m \u001b[1m433s\u001b[0m 500ms/step - loss: 0.1627 - weighted_kappa: 0.7428 - val_loss: 0.1652 - val_weighted_kappa: 0.7513 - learning_rate: 4.8000e-05\n",
      "Epoch 4/25\n",
      "\u001b[1m865/865\u001b[0m \u001b[32m━━━━━━━━━━━━━━━━━━━━\u001b[0m\u001b[37m\u001b[0m \u001b[1m431s\u001b[0m 498ms/step - loss: 0.1447 - weighted_kappa: 0.7842 - val_loss: 0.1827 - val_weighted_kappa: 0.7362 - learning_rate: 4.7089e-05\n",
      "Epoch 5/25\n",
      "\u001b[1m865/865\u001b[0m \u001b[32m━━━━━━━━━━━━━━━━━━━━\u001b[0m\u001b[37m\u001b[0m \u001b[1m431s\u001b[0m 498ms/step - loss: 0.1266 - weighted_kappa: 0.8207 - val_loss: 0.1759 - val_weighted_kappa: 0.7562 - learning_rate: 4.4428e-05\n",
      "Epoch 6/25\n",
      "\u001b[1m865/865\u001b[0m \u001b[32m━━━━━━━━━━━━━━━━━━━━\u001b[0m\u001b[37m\u001b[0m \u001b[1m427s\u001b[0m 493ms/step - loss: 0.1116 - weighted_kappa: 0.8529 - val_loss: 0.1715 - val_weighted_kappa: 0.7548 - learning_rate: 4.0234e-05\n",
      "Epoch 7/25\n",
      "\u001b[1m865/865\u001b[0m \u001b[32m━━━━━━━━━━━━━━━━━━━━\u001b[0m\u001b[37m\u001b[0m \u001b[1m424s\u001b[0m 490ms/step - loss: 0.0947 - weighted_kappa: 0.8789 - val_loss: 0.1984 - val_weighted_kappa: 0.7405 - learning_rate: 3.4847e-05\n",
      "Epoch 8/25\n",
      "\u001b[1m865/865\u001b[0m \u001b[32m━━━━━━━━━━━━━━━━━━━━\u001b[0m\u001b[37m\u001b[0m \u001b[1m424s\u001b[0m 490ms/step - loss: 0.0729 - weighted_kappa: 0.9091 - val_loss: 0.2379 - val_weighted_kappa: 0.7330 - learning_rate: 2.8702e-05\n",
      "Epoch 9/25\n",
      "\u001b[1m865/865\u001b[0m \u001b[32m━━━━━━━━━━━━━━━━━━━━\u001b[0m\u001b[37m\u001b[0m \u001b[1m426s\u001b[0m 492ms/step - loss: 0.0588 - weighted_kappa: 0.9306 - val_loss: 0.2962 - val_weighted_kappa: 0.7243 - learning_rate: 2.2298e-05\n",
      "Epoch 10/25\n",
      "\u001b[1m865/865\u001b[0m \u001b[32m━━━━━━━━━━━━━━━━━━━━\u001b[0m\u001b[37m\u001b[0m \u001b[1m424s\u001b[0m 490ms/step - loss: 0.0474 - weighted_kappa: 0.9460 - val_loss: 0.3418 - val_weighted_kappa: 0.7047 - learning_rate: 1.6153e-05\n",
      "Epoch 11/25\n",
      "\u001b[1m865/865\u001b[0m \u001b[32m━━━━━━━━━━━━━━━━━━━━\u001b[0m\u001b[37m\u001b[0m \u001b[1m426s\u001b[0m 492ms/step - loss: 0.0352 - weighted_kappa: 0.9611 - val_loss: 0.3095 - val_weighted_kappa: 0.7408 - learning_rate: 1.0766e-05\n",
      "Epoch 12/25\n",
      "\u001b[1m865/865\u001b[0m \u001b[32m━━━━━━━━━━━━━━━━━━━━\u001b[0m\u001b[37m\u001b[0m \u001b[1m424s\u001b[0m 490ms/step - loss: 0.0254 - weighted_kappa: 0.9740 - val_loss: 0.3216 - val_weighted_kappa: 0.7467 - learning_rate: 6.5718e-06\n",
      "Epoch 13/25\n",
      "\u001b[1m865/865\u001b[0m \u001b[32m━━━━━━━━━━━━━━━━━━━━\u001b[0m\u001b[37m\u001b[0m \u001b[1m421s\u001b[0m 486ms/step - loss: 0.0216 - weighted_kappa: 0.9771 - val_loss: 0.3308 - val_weighted_kappa: 0.7517 - learning_rate: 3.9114e-06\n",
      "Epoch 14/25\n",
      "\u001b[1m865/865\u001b[0m \u001b[32m━━━━━━━━━━━━━━━━━━━━\u001b[0m\u001b[37m\u001b[0m \u001b[1m421s\u001b[0m 486ms/step - loss: 0.0189 - weighted_kappa: 0.9820 - val_loss: 0.3437 - val_weighted_kappa: 0.7507 - learning_rate: 3.0000e-06\n",
      "Epoch 15/25\n",
      "\u001b[1m865/865\u001b[0m \u001b[32m━━━━━━━━━━━━━━━━━━━━\u001b[0m\u001b[37m\u001b[0m \u001b[1m423s\u001b[0m 489ms/step - loss: 0.0174 - weighted_kappa: 0.9828 - val_loss: 0.3559 - val_weighted_kappa: 0.7517 - learning_rate: 3.9114e-06\n",
      "Epoch 16/25\n",
      "\u001b[1m865/865\u001b[0m \u001b[32m━━━━━━━━━━━━━━━━━━━━\u001b[0m\u001b[37m\u001b[0m \u001b[1m423s\u001b[0m 488ms/step - loss: 0.0159 - weighted_kappa: 0.9849 - val_loss: 0.3866 - val_weighted_kappa: 0.7424 - learning_rate: 6.5718e-06\n",
      "Epoch 17/25\n",
      "\u001b[1m865/865\u001b[0m \u001b[32m━━━━━━━━━━━━━━━━━━━━\u001b[0m\u001b[37m\u001b[0m \u001b[1m422s\u001b[0m 487ms/step - loss: 0.0152 - weighted_kappa: 0.9840 - val_loss: 0.4224 - val_weighted_kappa: 0.7387 - learning_rate: 1.0766e-05\n",
      "Epoch 18/25\n",
      "\u001b[1m865/865\u001b[0m \u001b[32m━━━━━━━━━━━━━━━━━━━━\u001b[0m\u001b[37m\u001b[0m \u001b[1m419s\u001b[0m 485ms/step - loss: 0.0153 - weighted_kappa: 0.9833 - val_loss: 0.4490 - val_weighted_kappa: 0.7424 - learning_rate: 1.6153e-05\n",
      "Epoch 19/25\n",
      "\u001b[1m865/865\u001b[0m \u001b[32m━━━━━━━━━━━━━━━━━━━━\u001b[0m\u001b[37m\u001b[0m \u001b[1m416s\u001b[0m 480ms/step - loss: 0.0182 - weighted_kappa: 0.9811 - val_loss: 0.4752 - val_weighted_kappa: 0.7380 - learning_rate: 2.2298e-05\n",
      "Epoch 20/25\n",
      "\u001b[1m865/865\u001b[0m \u001b[32m━━━━━━━━━━━━━━━━━━━━\u001b[0m\u001b[37m\u001b[0m \u001b[1m414s\u001b[0m 478ms/step - loss: 0.0203 - weighted_kappa: 0.9783 - val_loss: 0.4845 - val_weighted_kappa: 0.7229 - learning_rate: 2.8702e-05\n",
      "Epoch 21/25\n",
      "\u001b[1m865/865\u001b[0m \u001b[32m━━━━━━━━━━━━━━━━━━━━\u001b[0m\u001b[37m\u001b[0m \u001b[1m413s\u001b[0m 477ms/step - loss: 0.0238 - weighted_kappa: 0.9739 - val_loss: 0.5132 - val_weighted_kappa: 0.7079 - learning_rate: 3.4847e-05\n",
      "Epoch 22/25\n",
      "\u001b[1m865/865\u001b[0m \u001b[32m━━━━━━━━━━━━━━━━━━━━\u001b[0m\u001b[37m\u001b[0m \u001b[1m413s\u001b[0m 478ms/step - loss: 0.0271 - weighted_kappa: 0.9698 - val_loss: 0.4163 - val_weighted_kappa: 0.7388 - learning_rate: 4.0234e-05\n",
      "Epoch 23/25\n",
      "\u001b[1m865/865\u001b[0m \u001b[32m━━━━━━━━━━━━━━━━━━━━\u001b[0m\u001b[37m\u001b[0m \u001b[1m417s\u001b[0m 482ms/step - loss: 0.0327 - weighted_kappa: 0.9619 - val_loss: 0.3821 - val_weighted_kappa: 0.7461 - learning_rate: 4.4428e-05\n",
      "Epoch 24/25\n",
      "\u001b[1m865/865\u001b[0m \u001b[32m━━━━━━━━━━━━━━━━━━━━\u001b[0m\u001b[37m\u001b[0m \u001b[1m416s\u001b[0m 481ms/step - loss: 0.0344 - weighted_kappa: 0.9600 - val_loss: 0.4261 - val_weighted_kappa: 0.7403 - learning_rate: 4.7089e-05\n",
      "Epoch 25/25\n",
      "\u001b[1m865/865\u001b[0m \u001b[32m━━━━━━━━━━━━━━━━━━━━\u001b[0m\u001b[37m\u001b[0m \u001b[1m419s\u001b[0m 484ms/step - loss: 0.0336 - weighted_kappa: 0.9656 - val_loss: 0.4025 - val_weighted_kappa: 0.7421 - learning_rate: 4.8000e-05\n"
     ]
    }
   ],
   "source": [
    "# Start training the model\n",
    "history = model.fit(\n",
    "    train_ds,\n",
    "    epochs=CFG.epochs,\n",
    "    validation_data=valid_ds,\n",
    "    callbacks=[lr_cb, ckpt_cb]\n",
    ")"
   ]
  },
  {
   "cell_type": "code",
   "execution_count": 24,
   "id": "397c4251",
   "metadata": {
    "_kg_hide-input": true,
    "execution": {
     "iopub.execute_input": "2024-07-02T20:06:05.766066Z",
     "iopub.status.busy": "2024-07-02T20:06:05.765728Z",
     "iopub.status.idle": "2024-07-02T20:06:05.772064Z",
     "shell.execute_reply": "2024-07-02T20:06:05.771255Z"
    },
    "papermill": {
     "duration": 1.813675,
     "end_time": "2024-07-02T20:06:05.774228",
     "exception": false,
     "start_time": "2024-07-02T20:06:03.960553",
     "status": "completed"
    },
    "tags": []
   },
   "outputs": [
    {
     "name": "stdout",
     "output_type": "stream",
     "text": [
      "\n",
      "================= RESULTS =================\n",
      ">>>> BEST Loss  : 0.159\n",
      ">>>> BEST Score : 0.759\n",
      ">>>> BEST Epoch : 1\n",
      "==================================================\n"
     ]
    }
   ],
   "source": [
    "\n",
    "best_epoch = np.argmax(model.history.history['val_weighted_kappa'])\n",
    "best_score = model.history.history['val_weighted_kappa'][best_epoch]\n",
    "best_loss = model.history.history['val_loss'][best_epoch]\n",
    "\n",
    "\n",
    "print(f'\\n{\"=\" * 17} RESULTS {\"=\" * 17}')\n",
    "print(f'>>>> BEST Loss  : {best_loss:.3f}\\n>>>> BEST Score : {best_score:.3f}\\n>>>> BEST Epoch : {best_epoch}')\n",
    "print('=' * 50)"
   ]
  },
  {
   "cell_type": "code",
   "execution_count": null,
   "id": "83e0a8f7",
   "metadata": {
    "_kg_hide-input": true,
    "execution": {
     "iopub.execute_input": "2024-07-02T20:06:09.493752Z",
     "iopub.status.busy": "2024-07-02T20:06:09.493020Z",
     "iopub.status.idle": "2024-07-02T20:06:49.994259Z",
     "shell.execute_reply": "2024-07-02T20:06:49.993322Z"
    },
    "papermill": {
     "duration": 44.234945,
     "end_time": "2024-07-02T20:06:51.918365",
     "exception": false,
     "start_time": "2024-07-02T20:06:07.683420",
     "status": "completed"
    },
    "tags": []
   },
   "outputs": [],
   "source": [
    "# Load best checkpoint\n",
    "model.load_weights(\"best_model.weights.h5\")\n",
    "\n",
    "# Make predictions using the trained model on last validation data\n",
    "valid_preds = model.predict(valid_ds, verbose=0)\n",
    "\n",
    "# Format predictions and true answers\n",
    "pred_scores = np.sum((valid_preds > 0.5).astype(int), axis=-1)\n",
    "true_scores = valid_df.score.values\n",
    "\n",
    "# Check 5 Predictions\n",
    "print(\"# Predictions\\n\")\n",
    "for i in range(5):\n",
    "    row = valid_df.iloc[i]\n",
    "    text = row.full_text\n",
    "    pred_answer = pred_scores[i]\n",
    "    true_answer = true_scores[i]\n",
    "    print(f\"❓ Text {i+1}:\\n{text[:150]} .... {text[-150:]}\\n\")\n",
    "    print(f\"✅ True: {true_answer}\\n\")\n",
    "    print(f\"🤖 Predicted: {pred_answer}\\n\")\n",
    "    print(\"-\" * 90, \"\\n\")\n"
   ]
  },
  {
   "cell_type": "code",
   "execution_count": 26,
   "id": "461ac33b",
   "metadata": {
    "execution": {
     "iopub.execute_input": "2024-07-02T20:06:55.627201Z",
     "iopub.status.busy": "2024-07-02T20:06:55.626485Z",
     "iopub.status.idle": "2024-07-02T20:06:56.069555Z",
     "shell.execute_reply": "2024-07-02T20:06:56.068742Z"
    },
    "papermill": {
     "duration": 2.346319,
     "end_time": "2024-07-02T20:06:56.071758",
     "exception": false,
     "start_time": "2024-07-02T20:06:53.725439",
     "status": "completed"
    },
    "tags": []
   },
   "outputs": [],
   "source": [
    "# # Train Data\n",
    "test_df = pd.read_csv(f\"{BASE_PATH}/test.csv\")\n",
    "test_texts = test_df.full_text.fillna(\"\").tolist()  # Extract training texts\n",
    "\n",
    "# Build training dataset\n",
    "test_ds = build_dataset(\n",
    "    test_texts,\n",
    "    labels=None,\n",
    "    batch_size=min(CFG.batch_size, len(test_df)),\n",
    "    shuffle=False,\n",
    "    drop_remainder=False,  # include all samples\n",
    ")\n"
   ]
  },
  {
   "cell_type": "code",
   "execution_count": 27,
   "id": "f279ce4d",
   "metadata": {
    "execution": {
     "iopub.execute_input": "2024-07-02T20:06:59.789930Z",
     "iopub.status.busy": "2024-07-02T20:06:59.788923Z",
     "iopub.status.idle": "2024-07-02T20:06:59.797906Z",
     "shell.execute_reply": "2024-07-02T20:06:59.796729Z"
    },
    "papermill": {
     "duration": 1.819331,
     "end_time": "2024-07-02T20:06:59.800514",
     "exception": false,
     "start_time": "2024-07-02T20:06:57.981183",
     "status": "completed"
    },
    "tags": []
   },
   "outputs": [
    {
     "data": {
      "text/plain": [
       "<bound method NDFrame.describe of   essay_id                                          full_text\n",
       "0  000d118  Many people have car where they live. The thin...\n",
       "1  000fe60  I am a scientist at NASA that is discussing th...\n",
       "2  001ab80  People always wish they had the same technolog...>"
      ]
     },
     "execution_count": 27,
     "metadata": {},
     "output_type": "execute_result"
    }
   ],
   "source": [
    "test_df.describe"
   ]
  },
  {
   "cell_type": "code",
   "execution_count": 28,
   "id": "7ae352d7",
   "metadata": {
    "execution": {
     "iopub.execute_input": "2024-07-02T20:07:03.671250Z",
     "iopub.status.busy": "2024-07-02T20:07:03.670880Z",
     "iopub.status.idle": "2024-07-02T20:07:09.252976Z",
     "shell.execute_reply": "2024-07-02T20:07:09.251585Z"
    },
    "papermill": {
     "duration": 7.492675,
     "end_time": "2024-07-02T20:07:09.255621",
     "exception": false,
     "start_time": "2024-07-02T20:07:01.762946",
     "status": "completed"
    },
    "tags": []
   },
   "outputs": [
    {
     "name": "stdout",
     "output_type": "stream",
     "text": [
      "\u001b[1m1/1\u001b[0m \u001b[32m━━━━━━━━━━━━━━━━━━━━\u001b[0m\u001b[37m\u001b[0m \u001b[1m6s\u001b[0m 6s/step\n"
     ]
    }
   ],
   "source": [
    "# Do inference\n",
    "test_preds = model.predict(test_ds, verbose=1)\n",
    "\n",
    "# Convert probabilities to class labels\n",
    "test_preds = np.sum((test_preds>0.5).astype(int), axis=-1).clip(1, 6)"
   ]
  },
  {
   "cell_type": "code",
   "execution_count": 29,
   "id": "57e11986",
   "metadata": {
    "execution": {
     "iopub.execute_input": "2024-07-02T20:07:12.997711Z",
     "iopub.status.busy": "2024-07-02T20:07:12.996846Z",
     "iopub.status.idle": "2024-07-02T20:07:13.012843Z",
     "shell.execute_reply": "2024-07-02T20:07:13.011963Z"
    },
    "papermill": {
     "duration": 1.942724,
     "end_time": "2024-07-02T20:07:13.014726",
     "exception": false,
     "start_time": "2024-07-02T20:07:11.072002",
     "status": "completed"
    },
    "tags": []
   },
   "outputs": [
    {
     "data": {
      "text/html": [
       "<div>\n",
       "<style scoped>\n",
       "    .dataframe tbody tr th:only-of-type {\n",
       "        vertical-align: middle;\n",
       "    }\n",
       "\n",
       "    .dataframe tbody tr th {\n",
       "        vertical-align: top;\n",
       "    }\n",
       "\n",
       "    .dataframe thead th {\n",
       "        text-align: right;\n",
       "    }\n",
       "</style>\n",
       "<table border=\"1\" class=\"dataframe\">\n",
       "  <thead>\n",
       "    <tr style=\"text-align: right;\">\n",
       "      <th></th>\n",
       "      <th>essay_id</th>\n",
       "      <th>score</th>\n",
       "    </tr>\n",
       "  </thead>\n",
       "  <tbody>\n",
       "    <tr>\n",
       "      <th>0</th>\n",
       "      <td>000d118</td>\n",
       "      <td>2</td>\n",
       "    </tr>\n",
       "    <tr>\n",
       "      <th>1</th>\n",
       "      <td>000fe60</td>\n",
       "      <td>3</td>\n",
       "    </tr>\n",
       "    <tr>\n",
       "      <th>2</th>\n",
       "      <td>001ab80</td>\n",
       "      <td>4</td>\n",
       "    </tr>\n",
       "  </tbody>\n",
       "</table>\n",
       "</div>"
      ],
      "text/plain": [
       "  essay_id  score\n",
       "0  000d118      2\n",
       "1  000fe60      3\n",
       "2  001ab80      4"
      ]
     },
     "execution_count": 29,
     "metadata": {},
     "output_type": "execute_result"
    }
   ],
   "source": [
    "# Create a DataFrame to store the submission\n",
    "sub_df = test_df[[\"essay_id\"]].copy()\n",
    "\n",
    "# Add the formatted predictions to the submission DataFrame\n",
    "sub_df[\"score\"] = test_preds\n",
    "\n",
    "# Save Submission\n",
    "sub_df.to_csv('submission.csv',index=False)\n",
    "\n",
    "# Display the first 2 rows of the submission DataFrame\n",
    "sub_df.head()"
   ]
  },
  {
   "cell_type": "code",
   "execution_count": 30,
   "id": "80cef7d4",
   "metadata": {
    "execution": {
     "iopub.execute_input": "2024-07-02T20:07:16.724110Z",
     "iopub.status.busy": "2024-07-02T20:07:16.723412Z",
     "iopub.status.idle": "2024-07-02T20:07:16.737138Z",
     "shell.execute_reply": "2024-07-02T20:07:16.736306Z"
    },
    "papermill": {
     "duration": 1.922331,
     "end_time": "2024-07-02T20:07:16.739338",
     "exception": false,
     "start_time": "2024-07-02T20:07:14.817007",
     "status": "completed"
    },
    "tags": []
   },
   "outputs": [
    {
     "data": {
      "text/html": [
       "<div>\n",
       "<style scoped>\n",
       "    .dataframe tbody tr th:only-of-type {\n",
       "        vertical-align: middle;\n",
       "    }\n",
       "\n",
       "    .dataframe tbody tr th {\n",
       "        vertical-align: top;\n",
       "    }\n",
       "\n",
       "    .dataframe thead th {\n",
       "        text-align: right;\n",
       "    }\n",
       "</style>\n",
       "<table border=\"1\" class=\"dataframe\">\n",
       "  <thead>\n",
       "    <tr style=\"text-align: right;\">\n",
       "      <th></th>\n",
       "      <th>score</th>\n",
       "    </tr>\n",
       "  </thead>\n",
       "  <tbody>\n",
       "    <tr>\n",
       "      <th>count</th>\n",
       "      <td>3.0</td>\n",
       "    </tr>\n",
       "    <tr>\n",
       "      <th>mean</th>\n",
       "      <td>3.0</td>\n",
       "    </tr>\n",
       "    <tr>\n",
       "      <th>std</th>\n",
       "      <td>1.0</td>\n",
       "    </tr>\n",
       "    <tr>\n",
       "      <th>min</th>\n",
       "      <td>2.0</td>\n",
       "    </tr>\n",
       "    <tr>\n",
       "      <th>25%</th>\n",
       "      <td>2.5</td>\n",
       "    </tr>\n",
       "    <tr>\n",
       "      <th>50%</th>\n",
       "      <td>3.0</td>\n",
       "    </tr>\n",
       "    <tr>\n",
       "      <th>75%</th>\n",
       "      <td>3.5</td>\n",
       "    </tr>\n",
       "    <tr>\n",
       "      <th>max</th>\n",
       "      <td>4.0</td>\n",
       "    </tr>\n",
       "  </tbody>\n",
       "</table>\n",
       "</div>"
      ],
      "text/plain": [
       "       score\n",
       "count    3.0\n",
       "mean     3.0\n",
       "std      1.0\n",
       "min      2.0\n",
       "25%      2.5\n",
       "50%      3.0\n",
       "75%      3.5\n",
       "max      4.0"
      ]
     },
     "execution_count": 30,
     "metadata": {},
     "output_type": "execute_result"
    }
   ],
   "source": [
    "sub_df.describe()"
   ]
  },
  {
   "cell_type": "code",
   "execution_count": null,
   "id": "3e1b6660",
   "metadata": {
    "papermill": {
     "duration": 1.833255,
     "end_time": "2024-07-02T20:07:20.504650",
     "exception": false,
     "start_time": "2024-07-02T20:07:18.671395",
     "status": "completed"
    },
    "tags": []
   },
   "outputs": [],
   "source": []
  }
 ],
 "metadata": {
  "kaggle": {
   "accelerator": "gpu",
   "dataSources": [
    {
     "databundleVersionId": 8059942,
     "sourceId": 71485,
     "sourceType": "competition"
    },
    {
     "modelInstanceId": 4684,
     "sourceId": 6063,
     "sourceType": "modelInstanceVersion"
    },
    {
     "modelInstanceId": 4686,
     "sourceId": 6065,
     "sourceType": "modelInstanceVersion"
    }
   ],
   "dockerImageVersionId": 30674,
   "isGpuEnabled": true,
   "isInternetEnabled": false,
   "language": "python",
   "sourceType": "notebook"
  },
  "kernelspec": {
   "display_name": "Python 3",
   "language": "python",
   "name": "python3"
  },
  "language_info": {
   "codemirror_mode": {
    "name": "ipython",
    "version": 3
   },
   "file_extension": ".py",
   "mimetype": "text/x-python",
   "name": "python",
   "nbconvert_exporter": "python",
   "pygments_lexer": "ipython3",
   "version": "3.10.13"
  },
  "papermill": {
   "default_parameters": {},
   "duration": 10743.679241,
   "end_time": "2024-07-02T20:07:25.241107",
   "environment_variables": {},
   "exception": null,
   "input_path": "__notebook__.ipynb",
   "output_path": "__notebook__.ipynb",
   "parameters": {},
   "start_time": "2024-07-02T17:08:21.561866",
   "version": "2.5.0"
  }
 },
 "nbformat": 4,
 "nbformat_minor": 5
}
